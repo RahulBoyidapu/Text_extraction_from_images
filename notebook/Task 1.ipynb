{
 "cells": [
  {
   "cell_type": "code",
   "execution_count": 2,
   "id": "f75de34b",
   "metadata": {},
   "outputs": [
    {
     "name": "stdout",
     "output_type": "stream",
     "text": [
      "Requirement already satisfied: pytesseract in f:\\resolute ai software private limited\\.venv\\lib\\site-packages (0.3.10)Note: you may need to restart the kernel to use updated packages.\n",
      "\n",
      "Requirement already satisfied: packaging>=21.3 in f:\\resolute ai software private limited\\.venv\\lib\\site-packages (from pytesseract) (23.1)\n",
      "Requirement already satisfied: Pillow>=8.0.0 in f:\\resolute ai software private limited\\.venv\\lib\\site-packages (from pytesseract) (9.5.0)\n"
     ]
    }
   ],
   "source": [
    "pip install pytesseract"
   ]
  },
  {
   "attachments": {},
   "cell_type": "markdown",
   "id": "7a01a460",
   "metadata": {},
   "source": [
    "## 1 Import the required libraries:"
   ]
  },
  {
   "cell_type": "code",
   "execution_count": 3,
   "id": "695c8390",
   "metadata": {},
   "outputs": [],
   "source": [
    "import cv2\n",
    "import pytesseract\n",
    "\n",
    "# Set the path to the Tesseract executable\n",
    "pytesseract.pytesseract.tesseract_cmd = r\"C:\\Users\\Rahul\\Tesseract\\tesseract.exe\""
   ]
  },
  {
   "attachments": {},
   "cell_type": "markdown",
   "id": "146dfea1",
   "metadata": {},
   "source": [
    "### 2 Load the image using OpenCV"
   ]
  },
  {
   "cell_type": "code",
   "execution_count": 12,
   "id": "7126aab0",
   "metadata": {},
   "outputs": [],
   "source": [
    "# Load the image\n",
    "image = cv2.imread(\"C:\\\\Users\\\\Rahul\\\\Downloads\\\\Data\\\\Data\\\\Task1\\\\1.jpg\")"
   ]
  },
  {
   "attachments": {},
   "cell_type": "markdown",
   "id": "ec9dcb7b",
   "metadata": {},
   "source": [
    "### 3 Preprocess the image:\n",
    "* Convert the image to grayscale for better OCR results.\n",
    "* Apply any necessary image preprocessing techniques such as resizing, denoising, or thresholding. This step depends on the *specific image you are working with and the quality of the text."
   ]
  },
  {
   "cell_type": "code",
   "execution_count": 13,
   "id": "ab17916d",
   "metadata": {},
   "outputs": [],
   "source": [
    "# Convert the image to grayscale\n",
    "gray = cv2.cvtColor(image, cv2.COLOR_BGR2GRAY)"
   ]
  },
  {
   "cell_type": "code",
   "execution_count": 14,
   "id": "b5f7cc78",
   "metadata": {},
   "outputs": [
    {
     "name": "stdout",
     "output_type": "stream",
     "text": [
      "ying an dependent contented he gentleman agreeable do be. Warrant\n",
      "emoved an in equally totally if. Del: Lor Sar\n",
      "objection do mr prevailed. Mr feeling do chiefly cordial in do. Hater timed folly\n",
      "right aware if oh truth. Imprudence attachment him his for sympathize. Large above\n",
      "be to means. Dashwood do provided stronger is. But discretion frequently sir the\n",
      "she instrument unaffected admiration everything.\n",
      "\n",
      "Her extensive perceived may any sincerity,\n",
      "see. Old propriety delighted\n",
      "Doubt meri\n",
      "northward. Congisted we atheruise arrang ng commanded d\n",
      "Cho old even song like tao yet been. ‘Literature inter doannouncing for\n",
      "terminated him inquietude day shy. Hi nm perhaps waiting if\n",
      "highest no it, Continued promotion has consulted fat improving not way.\n",
      "\n",
      "tramity. Indeed add rather may pretty\n",
      "i obj lion gam ten her.\n",
      "nition smallness he\n",
      "ry it explained.\n",
      "\n",
      "Far quitting dwelling grac\n",
      "show am shed sold cold. Unatte\n",
      "terminated led. Result either d\n",
      "ferrars it ye besides resolve.\n",
      "pursuit at regular do parlo\n",
      "\n",
      "d remarkably lence\n",
      "\n",
      "gn san she 3 (in ashamed no inhabit\n",
      "Hn judgment yf i\n",
      "Rank what has into fond she.\n",
      "\n",
      "(4 friendship on inhabiting diminution discovered\n",
      "building few nor. Ghject he barton no effect play\n",
      "oppe we little seeing or branch.\n",
      "frequently you pos: ion tl\n",
      "held lain give yet.\n",
      "\n",
      "Tid friendly eat breeding\n",
      "\n",
      "do valley afford. Period so to\n",
      "Announcing contrasted not imprudence add\n",
      "\n",
      "ried gam his hou are and misery. Hour had\n",
      "\n",
      "\n"
     ]
    }
   ],
   "source": [
    "# Use Pytesseract to extract text from the image\n",
    "text = pytesseract.image_to_string(gray)\n",
    "\n",
    "# Print the extracted text\n",
    "print(text)"
   ]
  },
  {
   "cell_type": "code",
   "execution_count": 1,
   "id": "2d2360e9",
   "metadata": {
    "scrolled": true
   },
   "outputs": [
    {
     "name": "stdout",
     "output_type": "stream",
     "text": [
      "Collecting pdf2image\n",
      "  Using cached pdf2image-1.16.3-py3-none-any.whl (11 kB)\n",
      "Requirement already satisfied: pillow in f:\\resolute ai software private limited\\.venv\\lib\\site-packages (from pdf2image) (9.5.0)\n",
      "Installing collected packages: pdf2image\n",
      "Successfully installed pdf2image-1.16.3\n",
      "Note: you may need to restart the kernel to use updated packages.\n"
     ]
    }
   ],
   "source": [
    "%pip install pdf2image"
   ]
  },
  {
   "cell_type": "code",
   "execution_count": 4,
   "id": "5bc54ae1",
   "metadata": {},
   "outputs": [
    {
     "name": "stdout",
     "output_type": "stream",
     "text": [
      "Image Text:\n",
      "ying an dependent contented he gentleman agreeable do be. Warrart\n",
      "emoved an in equally totally if. Bel: Lar sary\n",
      "objection do wr prevailed. Mr feeling do chiefly cordial in do. Water timed folly\n",
      "right aware if oh truth. Imprudence attachmert him his for sympathize. Large above\n",
      "be to means. Dazhweod do provided stronger is. But discretion frequently sir the\n",
      "she instrument unattected admiration everything.\n",
      "\n",
      "Her extensive pereeived may any sincerith\n",
      "gee, (ld propriety delighted\n",
      "Qoubt meri\n",
      "northward. Congisted we othernise arrang ng commanded\n",
      "Ch old even song like tho yet been. ‘Literature inter do arnouncing tor\n",
      "terminated him inquietude day shy. Hi mi perhaps waiting it\n",
      "highest no it, Continued promotion fas consulted fat improving mot Hal.\n",
      "\n",
      "tremitye Indeed add rather may pretty\n",
      "i obj rtion ga ten her.\n",
      "mtion smallness fe\n",
      "ry it explained.\n",
      "\n",
      "Far quitting dwelling grac\n",
      "show am shed sold cold, Unatte\n",
      "terminated led, Result either d\n",
      "ferrars it ye besides resolve.\n",
      "pursuit at regular do parle\n",
      "\n",
      "id remarkably lence\n",
      "\n",
      "gn san she 3 lin ashamed mo inhabit\n",
      "Hn jadgnerct yt i\n",
      "Rank what has inks fond she.\n",
      "\n",
      "Qf friendship or inhabiting diminution disesuered\n",
      "building few nor. thject he barton no effect play\n",
      "oppe we little seeing or branch,\n",
      "frequently wou pos: ior fal\n",
      "held lain give yet.\n",
      "\n",
      "fid friendly eat breeding\n",
      "\n",
      "do valley afford. Period so to\n",
      "Anrouneing contrasted not imprudence add\n",
      "\n",
      "rind saw fis hou uare and misery. Hour had\n",
      "\n",
      "\n"
     ]
    }
   ],
   "source": [
    "import cv2\n",
    "import pytesseract\n",
    "\n",
    "# Set the path to the Tesseract executable\n",
    "pytesseract.pytesseract.tesseract_cmd = r\"C:\\Users\\Rahul\\Tesseract\\tesseract.exe\"\n",
    "\n",
    "# Function to extract text from an image\n",
    "def extract_text_from_image(image, lang='eng'):\n",
    "    # Convert the image to grayscale\n",
    "    gray = cv2.cvtColor(image, cv2.COLOR_BGR2GRAY)\n",
    "    # Apply image preprocessing techniques (adjust according to your needs)\n",
    "    gray = cv2.threshold(gray, 0, 255, cv2.THRESH_BINARY | cv2.THRESH_OTSU)[1]\n",
    "    # Use Pytesseract to extract text from the image\n",
    "    text = pytesseract.image_to_string(gray, lang=lang)\n",
    "    return text\n",
    "\n",
    "# Function to process an image\n",
    "def process_image(file_path):\n",
    "    # Load the image from file path\n",
    "    image = cv2.imread(file_path)\n",
    "\n",
    "    if image is not None:\n",
    "        # Extract text from the image\n",
    "        text = extract_text_from_image(image, lang='eng')\n",
    "        # Print the extracted text\n",
    "        if text.strip():\n",
    "            print(\"Image Text:\")\n",
    "            print(text)\n",
    "        else:\n",
    "            print(\"No text found in the image.\")\n",
    "    else:\n",
    "        print(\"Failed to load the image.\")\n",
    "\n",
    "# Prompt the user for the image file path\n",
    "file_path = input(\"Enter the path of the image file: \")\n",
    "\n",
    "# Process the image file\n",
    "process_image(file_path)\n"
   ]
  },
  {
   "cell_type": "code",
   "execution_count": null,
   "id": "907e4993",
   "metadata": {},
   "outputs": [],
   "source": []
  }
 ],
 "metadata": {
  "kernelspec": {
   "display_name": "Python 3 (ipykernel)",
   "language": "python",
   "name": "python3"
  },
  "language_info": {
   "codemirror_mode": {
    "name": "ipython",
    "version": 3
   },
   "file_extension": ".py",
   "mimetype": "text/x-python",
   "name": "python",
   "nbconvert_exporter": "python",
   "pygments_lexer": "ipython3",
   "version": "3.11.3"
  }
 },
 "nbformat": 4,
 "nbformat_minor": 5
}
